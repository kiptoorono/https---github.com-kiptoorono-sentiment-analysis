{
 "cells": [
  {
   "cell_type": "code",
   "execution_count": 1,
   "metadata": {},
   "outputs": [
    {
     "data": {
      "text/html": [
       "<div>\n",
       "<style scoped>\n",
       "    .dataframe tbody tr th:only-of-type {\n",
       "        vertical-align: middle;\n",
       "    }\n",
       "\n",
       "    .dataframe tbody tr th {\n",
       "        vertical-align: top;\n",
       "    }\n",
       "\n",
       "    .dataframe thead th {\n",
       "        text-align: right;\n",
       "    }\n",
       "</style>\n",
       "<table border=\"1\" class=\"dataframe\">\n",
       "  <thead>\n",
       "    <tr style=\"text-align: right;\">\n",
       "      <th></th>\n",
       "      <th>user/blocking</th>\n",
       "      <th>user/created_at</th>\n",
       "      <th>user/default_profile</th>\n",
       "      <th>user/default_profile_image</th>\n",
       "      <th>user/description</th>\n",
       "      <th>user/entities/url/urls/0/display_url</th>\n",
       "      <th>user/entities/url/urls/0/expanded_url</th>\n",
       "      <th>user/entities/url/urls/0/indices/0</th>\n",
       "      <th>user/entities/url/urls/0/indices/1</th>\n",
       "      <th>user/entities/url/urls/0/url</th>\n",
       "      <th>...</th>\n",
       "      <th>user/statuses_count</th>\n",
       "      <th>user/time_zone</th>\n",
       "      <th>user/translator_type</th>\n",
       "      <th>user/url</th>\n",
       "      <th>user/utc_offset</th>\n",
       "      <th>user/verified</th>\n",
       "      <th>user/verified_type</th>\n",
       "      <th>user/withheld_scope</th>\n",
       "      <th>location</th>\n",
       "      <th>full_text</th>\n",
       "    </tr>\n",
       "  </thead>\n",
       "  <tbody>\n",
       "    <tr>\n",
       "      <th>0</th>\n",
       "      <td>False</td>\n",
       "      <td>Tue Jul 12 09:42:26 +0000 2011</td>\n",
       "      <td>False</td>\n",
       "      <td>False</td>\n",
       "      <td>President of The Republic of Kenya.</td>\n",
       "      <td>president.go.ke</td>\n",
       "      <td>http://www.president.go.ke</td>\n",
       "      <td>0.0</td>\n",
       "      <td>23.0</td>\n",
       "      <td>https://t.co/X1EgXc8I5w</td>\n",
       "      <td>...</td>\n",
       "      <td>18652</td>\n",
       "      <td>NaN</td>\n",
       "      <td>none</td>\n",
       "      <td>https://t.co/X1EgXc8I5w</td>\n",
       "      <td>0</td>\n",
       "      <td>False</td>\n",
       "      <td>Government</td>\n",
       "      <td>NaN</td>\n",
       "      <td>NaN</td>\n",
       "      <td>The East African Community is pursuing initiat...</td>\n",
       "    </tr>\n",
       "    <tr>\n",
       "      <th>1</th>\n",
       "      <td>False</td>\n",
       "      <td>Tue Jul 12 09:42:26 +0000 2011</td>\n",
       "      <td>False</td>\n",
       "      <td>False</td>\n",
       "      <td>President of The Republic of Kenya.</td>\n",
       "      <td>president.go.ke</td>\n",
       "      <td>http://www.president.go.ke</td>\n",
       "      <td>0.0</td>\n",
       "      <td>23.0</td>\n",
       "      <td>https://t.co/X1EgXc8I5w</td>\n",
       "      <td>...</td>\n",
       "      <td>18652</td>\n",
       "      <td>NaN</td>\n",
       "      <td>none</td>\n",
       "      <td>https://t.co/X1EgXc8I5w</td>\n",
       "      <td>0</td>\n",
       "      <td>False</td>\n",
       "      <td>Government</td>\n",
       "      <td>NaN</td>\n",
       "      <td>NaN</td>\n",
       "      <td>EAC Inter - Parliamentary Games, Mombasa Count...</td>\n",
       "    </tr>\n",
       "    <tr>\n",
       "      <th>2</th>\n",
       "      <td>False</td>\n",
       "      <td>Tue Jul 12 09:42:26 +0000 2011</td>\n",
       "      <td>False</td>\n",
       "      <td>False</td>\n",
       "      <td>President of The Republic of Kenya.</td>\n",
       "      <td>president.go.ke</td>\n",
       "      <td>http://www.president.go.ke</td>\n",
       "      <td>0.0</td>\n",
       "      <td>23.0</td>\n",
       "      <td>https://t.co/X1EgXc8I5w</td>\n",
       "      <td>...</td>\n",
       "      <td>18652</td>\n",
       "      <td>NaN</td>\n",
       "      <td>none</td>\n",
       "      <td>https://t.co/X1EgXc8I5w</td>\n",
       "      <td>0</td>\n",
       "      <td>False</td>\n",
       "      <td>Government</td>\n",
       "      <td>NaN</td>\n",
       "      <td>NaN</td>\n",
       "      <td>Our condolences to Hon. Naomi Waqo for the los...</td>\n",
       "    </tr>\n",
       "    <tr>\n",
       "      <th>3</th>\n",
       "      <td>False</td>\n",
       "      <td>Tue Jul 12 09:42:26 +0000 2011</td>\n",
       "      <td>False</td>\n",
       "      <td>False</td>\n",
       "      <td>President of The Republic of Kenya.</td>\n",
       "      <td>president.go.ke</td>\n",
       "      <td>http://www.president.go.ke</td>\n",
       "      <td>0.0</td>\n",
       "      <td>23.0</td>\n",
       "      <td>https://t.co/X1EgXc8I5w</td>\n",
       "      <td>...</td>\n",
       "      <td>18652</td>\n",
       "      <td>NaN</td>\n",
       "      <td>none</td>\n",
       "      <td>https://t.co/X1EgXc8I5w</td>\n",
       "      <td>0</td>\n",
       "      <td>False</td>\n",
       "      <td>Government</td>\n",
       "      <td>NaN</td>\n",
       "      <td>NaN</td>\n",
       "      <td>EAC Inter - Parliamentary Games, Mombasa Count...</td>\n",
       "    </tr>\n",
       "    <tr>\n",
       "      <th>4</th>\n",
       "      <td>False</td>\n",
       "      <td>Tue Jul 12 09:42:26 +0000 2011</td>\n",
       "      <td>False</td>\n",
       "      <td>False</td>\n",
       "      <td>President of The Republic of Kenya.</td>\n",
       "      <td>president.go.ke</td>\n",
       "      <td>http://www.president.go.ke</td>\n",
       "      <td>0.0</td>\n",
       "      <td>23.0</td>\n",
       "      <td>https://t.co/X1EgXc8I5w</td>\n",
       "      <td>...</td>\n",
       "      <td>18652</td>\n",
       "      <td>NaN</td>\n",
       "      <td>none</td>\n",
       "      <td>https://t.co/X1EgXc8I5w</td>\n",
       "      <td>0</td>\n",
       "      <td>False</td>\n",
       "      <td>Government</td>\n",
       "      <td>NaN</td>\n",
       "      <td>NaN</td>\n",
       "      <td>There lies immense value in digital transforma...</td>\n",
       "    </tr>\n",
       "  </tbody>\n",
       "</table>\n",
       "<p>5 rows × 43 columns</p>\n",
       "</div>"
      ],
      "text/plain": [
       "   user/blocking                 user/created_at  user/default_profile  \\\n",
       "0          False  Tue Jul 12 09:42:26 +0000 2011                 False   \n",
       "1          False  Tue Jul 12 09:42:26 +0000 2011                 False   \n",
       "2          False  Tue Jul 12 09:42:26 +0000 2011                 False   \n",
       "3          False  Tue Jul 12 09:42:26 +0000 2011                 False   \n",
       "4          False  Tue Jul 12 09:42:26 +0000 2011                 False   \n",
       "\n",
       "   user/default_profile_image                     user/description  \\\n",
       "0                       False  President of The Republic of Kenya.   \n",
       "1                       False  President of The Republic of Kenya.   \n",
       "2                       False  President of The Republic of Kenya.   \n",
       "3                       False  President of The Republic of Kenya.   \n",
       "4                       False  President of The Republic of Kenya.   \n",
       "\n",
       "  user/entities/url/urls/0/display_url user/entities/url/urls/0/expanded_url  \\\n",
       "0                      president.go.ke            http://www.president.go.ke   \n",
       "1                      president.go.ke            http://www.president.go.ke   \n",
       "2                      president.go.ke            http://www.president.go.ke   \n",
       "3                      president.go.ke            http://www.president.go.ke   \n",
       "4                      president.go.ke            http://www.president.go.ke   \n",
       "\n",
       "   user/entities/url/urls/0/indices/0  user/entities/url/urls/0/indices/1  \\\n",
       "0                                 0.0                                23.0   \n",
       "1                                 0.0                                23.0   \n",
       "2                                 0.0                                23.0   \n",
       "3                                 0.0                                23.0   \n",
       "4                                 0.0                                23.0   \n",
       "\n",
       "  user/entities/url/urls/0/url  ...  user/statuses_count  user/time_zone  \\\n",
       "0      https://t.co/X1EgXc8I5w  ...                18652             NaN   \n",
       "1      https://t.co/X1EgXc8I5w  ...                18652             NaN   \n",
       "2      https://t.co/X1EgXc8I5w  ...                18652             NaN   \n",
       "3      https://t.co/X1EgXc8I5w  ...                18652             NaN   \n",
       "4      https://t.co/X1EgXc8I5w  ...                18652             NaN   \n",
       "\n",
       "   user/translator_type                 user/url  user/utc_offset  \\\n",
       "0                  none  https://t.co/X1EgXc8I5w                0   \n",
       "1                  none  https://t.co/X1EgXc8I5w                0   \n",
       "2                  none  https://t.co/X1EgXc8I5w                0   \n",
       "3                  none  https://t.co/X1EgXc8I5w                0   \n",
       "4                  none  https://t.co/X1EgXc8I5w                0   \n",
       "\n",
       "   user/verified  user/verified_type  user/withheld_scope  location  \\\n",
       "0          False          Government                  NaN       NaN   \n",
       "1          False          Government                  NaN       NaN   \n",
       "2          False          Government                  NaN       NaN   \n",
       "3          False          Government                  NaN       NaN   \n",
       "4          False          Government                  NaN       NaN   \n",
       "\n",
       "                                           full_text  \n",
       "0  The East African Community is pursuing initiat...  \n",
       "1  EAC Inter - Parliamentary Games, Mombasa Count...  \n",
       "2  Our condolences to Hon. Naomi Waqo for the los...  \n",
       "3  EAC Inter - Parliamentary Games, Mombasa Count...  \n",
       "4  There lies immense value in digital transforma...  \n",
       "\n",
       "[5 rows x 43 columns]"
      ]
     },
     "execution_count": 1,
     "metadata": {},
     "output_type": "execute_result"
    }
   ],
   "source": [
    "import pandas as pd\n",
    "\n",
    "twets=pd.read_csv(r\"E:\\Python\\Sentiment Analysis\\dataset_twitter-scraper_2024-12-07_14-59-58-354 (1).csv\")\n",
    "twets.head()"
   ]
  },
  {
   "cell_type": "code",
   "execution_count": null,
   "metadata": {},
   "outputs": [],
   "source": [
    "cleaned_tweets=twets['']"
   ]
  },
  {
   "cell_type": "code",
   "execution_count": 5,
   "metadata": {},
   "outputs": [
    {
     "data": {
      "text/plain": [
       "Index(['user/blocking', 'user/created_at', 'user/default_profile',\n",
       "       'user/default_profile_image', 'user/description',\n",
       "       'user/entities/url/urls/0/display_url',\n",
       "       'user/entities/url/urls/0/expanded_url',\n",
       "       'user/entities/url/urls/0/indices/0',\n",
       "       'user/entities/url/urls/0/indices/1', 'user/entities/url/urls/0/url',\n",
       "       'user/fast_followers_count', 'user/favourites_count',\n",
       "       'user/follow_request_sent', 'user/followed_by', 'user/followers_count',\n",
       "       'user/following', 'user/friends_count', 'user/has_custom_timelines',\n",
       "       'user/id', 'user/id_str', 'user/is_blue_verified', 'user/is_translator',\n",
       "       'user/listed_count', 'user/location', 'user/media_count', 'user/name',\n",
       "       'user/normal_followers_count', 'user/notifications',\n",
       "       'user/profile_banner_url', 'user/profile_image_url_https',\n",
       "       'user/protected', 'user/screen_name', 'user/show_all_inline_media',\n",
       "       'user/statuses_count', 'user/time_zone', 'user/translator_type',\n",
       "       'user/url', 'user/utc_offset', 'user/verified', 'user/verified_type',\n",
       "       'user/withheld_scope', 'location', 'full_text'],\n",
       "      dtype='object')"
      ]
     },
     "execution_count": 5,
     "metadata": {},
     "output_type": "execute_result"
    }
   ],
   "source": [
    "df=pd.DataFrame(twets)\n",
    "df.columns"
   ]
  },
  {
   "cell_type": "code",
   "execution_count": 8,
   "metadata": {},
   "outputs": [
    {
     "data": {
      "text/html": [
       "<div>\n",
       "<style scoped>\n",
       "    .dataframe tbody tr th:only-of-type {\n",
       "        vertical-align: middle;\n",
       "    }\n",
       "\n",
       "    .dataframe tbody tr th {\n",
       "        vertical-align: top;\n",
       "    }\n",
       "\n",
       "    .dataframe thead th {\n",
       "        text-align: right;\n",
       "    }\n",
       "</style>\n",
       "<table border=\"1\" class=\"dataframe\">\n",
       "  <thead>\n",
       "    <tr style=\"text-align: right;\">\n",
       "      <th></th>\n",
       "      <th>user/name</th>\n",
       "      <th>user/screen_name</th>\n",
       "      <th>user/verified</th>\n",
       "      <th>full_text</th>\n",
       "    </tr>\n",
       "  </thead>\n",
       "  <tbody>\n",
       "    <tr>\n",
       "      <th>0</th>\n",
       "      <td>William Samoei Ruto, PhD</td>\n",
       "      <td>WilliamsRuto</td>\n",
       "      <td>False</td>\n",
       "      <td>The East African Community is pursuing initiat...</td>\n",
       "    </tr>\n",
       "    <tr>\n",
       "      <th>1</th>\n",
       "      <td>William Samoei Ruto, PhD</td>\n",
       "      <td>WilliamsRuto</td>\n",
       "      <td>False</td>\n",
       "      <td>EAC Inter - Parliamentary Games, Mombasa Count...</td>\n",
       "    </tr>\n",
       "    <tr>\n",
       "      <th>2</th>\n",
       "      <td>William Samoei Ruto, PhD</td>\n",
       "      <td>WilliamsRuto</td>\n",
       "      <td>False</td>\n",
       "      <td>Our condolences to Hon. Naomi Waqo for the los...</td>\n",
       "    </tr>\n",
       "    <tr>\n",
       "      <th>3</th>\n",
       "      <td>William Samoei Ruto, PhD</td>\n",
       "      <td>WilliamsRuto</td>\n",
       "      <td>False</td>\n",
       "      <td>EAC Inter - Parliamentary Games, Mombasa Count...</td>\n",
       "    </tr>\n",
       "    <tr>\n",
       "      <th>4</th>\n",
       "      <td>William Samoei Ruto, PhD</td>\n",
       "      <td>WilliamsRuto</td>\n",
       "      <td>False</td>\n",
       "      <td>There lies immense value in digital transforma...</td>\n",
       "    </tr>\n",
       "    <tr>\n",
       "      <th>...</th>\n",
       "      <td>...</td>\n",
       "      <td>...</td>\n",
       "      <td>...</td>\n",
       "      <td>...</td>\n",
       "    </tr>\n",
       "    <tr>\n",
       "      <th>110</th>\n",
       "      <td>TurboDiesel</td>\n",
       "      <td>alexmwanzo</td>\n",
       "      <td>False</td>\n",
       "      <td>So java opened its doors for protesters but th...</td>\n",
       "    </tr>\n",
       "    <tr>\n",
       "      <th>111</th>\n",
       "      <td>TurboDiesel</td>\n",
       "      <td>alexmwanzo</td>\n",
       "      <td>False</td>\n",
       "      <td>A AK47 police standard issue has a magazine of...</td>\n",
       "    </tr>\n",
       "    <tr>\n",
       "      <th>112</th>\n",
       "      <td>TurboDiesel</td>\n",
       "      <td>alexmwanzo</td>\n",
       "      <td>False</td>\n",
       "      <td>Kwani uyu msee anatoa wapi doh? \\nNa kwani wen...</td>\n",
       "    </tr>\n",
       "    <tr>\n",
       "      <th>113</th>\n",
       "      <td>TurboDiesel</td>\n",
       "      <td>alexmwanzo</td>\n",
       "      <td>False</td>\n",
       "      <td>Driving a 30m GR LC and a convoy of 8 other ca...</td>\n",
       "    </tr>\n",
       "    <tr>\n",
       "      <th>114</th>\n",
       "      <td>TurboDiesel</td>\n",
       "      <td>alexmwanzo</td>\n",
       "      <td>False</td>\n",
       "      <td>5RTS I waste my weekend fact checking this</td>\n",
       "    </tr>\n",
       "  </tbody>\n",
       "</table>\n",
       "<p>115 rows × 4 columns</p>\n",
       "</div>"
      ],
      "text/plain": [
       "                    user/name user/screen_name  user/verified  \\\n",
       "0    William Samoei Ruto, PhD     WilliamsRuto          False   \n",
       "1    William Samoei Ruto, PhD     WilliamsRuto          False   \n",
       "2    William Samoei Ruto, PhD     WilliamsRuto          False   \n",
       "3    William Samoei Ruto, PhD     WilliamsRuto          False   \n",
       "4    William Samoei Ruto, PhD     WilliamsRuto          False   \n",
       "..                        ...              ...            ...   \n",
       "110               TurboDiesel       alexmwanzo          False   \n",
       "111               TurboDiesel       alexmwanzo          False   \n",
       "112               TurboDiesel       alexmwanzo          False   \n",
       "113               TurboDiesel       alexmwanzo          False   \n",
       "114               TurboDiesel       alexmwanzo          False   \n",
       "\n",
       "                                             full_text  \n",
       "0    The East African Community is pursuing initiat...  \n",
       "1    EAC Inter - Parliamentary Games, Mombasa Count...  \n",
       "2    Our condolences to Hon. Naomi Waqo for the los...  \n",
       "3    EAC Inter - Parliamentary Games, Mombasa Count...  \n",
       "4    There lies immense value in digital transforma...  \n",
       "..                                                 ...  \n",
       "110  So java opened its doors for protesters but th...  \n",
       "111  A AK47 police standard issue has a magazine of...  \n",
       "112  Kwani uyu msee anatoa wapi doh? \\nNa kwani wen...  \n",
       "113  Driving a 30m GR LC and a convoy of 8 other ca...  \n",
       "114         5RTS I waste my weekend fact checking this  \n",
       "\n",
       "[115 rows x 4 columns]"
      ]
     },
     "execution_count": 8,
     "metadata": {},
     "output_type": "execute_result"
    }
   ],
   "source": [
    "columns_to_keep = ['user/name', 'user/screen_name', 'user/verified','full_text']\n",
    "\n",
    "# Keep only the selected columns\n",
    "df_filtered = df[columns_to_keep]\n",
    "\n",
    "# Display the filtered DataFrame\n",
    "df_filtered"
   ]
  },
  {
   "cell_type": "code",
   "execution_count": null,
   "metadata": {},
   "outputs": [],
   "source": [
    "from nltk import    "
   ]
  },
  {
   "cell_type": "code",
   "execution_count": 9,
   "metadata": {},
   "outputs": [],
   "source": [
    "import nltk\n",
    "import spacy\n",
    "from nltk.tokenize import word_tokenize\n",
    "from nltk.stem import PorterStemmer\n",
    "from nltk.stem import WordNetLemmatizer\n",
    "from nltk.corpus import stopwords"
   ]
  },
  {
   "cell_type": "code",
   "execution_count": 10,
   "metadata": {},
   "outputs": [
    {
     "name": "stderr",
     "output_type": "stream",
     "text": [
      "[nltk_data] Downloading package punkt to\n",
      "[nltk_data]     C:\\Users\\Rono\\AppData\\Roaming\\nltk_data...\n",
      "[nltk_data]   Package punkt is already up-to-date!\n",
      "[nltk_data] Downloading package wordnet to\n",
      "[nltk_data]     C:\\Users\\Rono\\AppData\\Roaming\\nltk_data...\n",
      "[nltk_data]   Package wordnet is already up-to-date!\n",
      "[nltk_data] Downloading package stopwords to\n",
      "[nltk_data]     C:\\Users\\Rono\\AppData\\Roaming\\nltk_data...\n",
      "[nltk_data]   Package stopwords is already up-to-date!\n"
     ]
    },
    {
     "data": {
      "text/plain": [
       "True"
      ]
     },
     "execution_count": 10,
     "metadata": {},
     "output_type": "execute_result"
    }
   ],
   "source": [
    "nltk.download('punkt')\n",
    "nltk.download('wordnet')\n",
    "nltk.download('stopwords')"
   ]
  },
  {
   "cell_type": "code",
   "execution_count": 11,
   "metadata": {},
   "outputs": [],
   "source": [
    "nlp=spacy.load('en_core_web_sm')"
   ]
  },
  {
   "cell_type": "markdown",
   "metadata": {},
   "source": [
    "<h2>Tokenisation</h2>"
   ]
  },
  {
   "cell_type": "code",
   "execution_count": null,
   "metadata": {},
   "outputs": [
    {
     "data": {
      "text/plain": [
       "0      [The, East, African, Community, is, pursuing, ...\n",
       "1      [EAC, Inter, -, Parliamentary, Games, ,, Momba...\n",
       "2      [Our, condolences, to, Hon, ., Naomi, Waqo, fo...\n",
       "3      [EAC, Inter, -, Parliamentary, Games, ,, Momba...\n",
       "4      [There, lies, immense, value, in, digital, tra...\n",
       "                             ...                        \n",
       "110    [So, java, opened, its, doors, for, protesters...\n",
       "111    [A, AK47, police, standard, issue, has, a, mag...\n",
       "112    [Kwani, uyu, msee, anatoa, wapi, doh, ?, Na, k...\n",
       "113    [Driving, a, 30m, GR, LC, and, a, convoy, of, ...\n",
       "114    [5RTS, I, waste, my, weekend, fact, checking, ...\n",
       "Name: tokens, Length: 115, dtype: object"
      ]
     },
     "execution_count": 13,
     "metadata": {},
     "output_type": "execute_result"
    }
   ],
   "source": [
    "#Tokenising the full_text colums\n",
    "df['tokens']=df['full_text'].apply(lambda x: nltk.word_tokenize(x))\n",
    "df['tokens']"
   ]
  },
  {
   "cell_type": "code",
   "execution_count": 20,
   "metadata": {},
   "outputs": [
    {
     "data": {
      "text/plain": [
       "('Original Text:', 'Wake up and get to work no politician will feed you…')"
      ]
     },
     "execution_count": 20,
     "metadata": {},
     "output_type": "execute_result"
    }
   ],
   "source": [
    "#print the original tweet \n",
    "\"Original Text:\", df['full_text'].iloc[58]"
   ]
  },
  {
   "cell_type": "code",
   "execution_count": 21,
   "metadata": {},
   "outputs": [
    {
     "data": {
      "text/plain": [
       "('Tokenized Text:',\n",
       " ['Wake',\n",
       "  'up',\n",
       "  'and',\n",
       "  'get',\n",
       "  'to',\n",
       "  'work',\n",
       "  'no',\n",
       "  'politician',\n",
       "  'will',\n",
       "  'feed',\n",
       "  'you…'])"
      ]
     },
     "execution_count": 21,
     "metadata": {},
     "output_type": "execute_result"
    }
   ],
   "source": [
    "# check the tokenised tweet\n",
    "\n",
    "\"Tokenized Text:\", df['tokens'].iloc[58]\n"
   ]
  },
  {
   "cell_type": "markdown",
   "metadata": {},
   "source": [
    "<h2>Lemmatisation</h2>"
   ]
  },
  {
   "cell_type": "code",
   "execution_count": null,
   "metadata": {},
   "outputs": [],
   "source": []
  }
 ],
 "metadata": {
  "kernelspec": {
   "display_name": "Python 3",
   "language": "python",
   "name": "python3"
  },
  "language_info": {
   "codemirror_mode": {
    "name": "ipython",
    "version": 3
   },
   "file_extension": ".py",
   "mimetype": "text/x-python",
   "name": "python",
   "nbconvert_exporter": "python",
   "pygments_lexer": "ipython3",
   "version": "3.11.9"
  }
 },
 "nbformat": 4,
 "nbformat_minor": 2
}
